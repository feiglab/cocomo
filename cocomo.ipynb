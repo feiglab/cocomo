{
 "cells": [
  {
   "cell_type": "markdown",
   "id": "c757b58f",
   "metadata": {},
   "source": [
    "[![Open In Colab](https://colab.research.google.com/assets/colab-badge.svg)](https://colab.research.google.com/github/feiglab/cocomo/blob/main/cocomo.ipynb)"
   ]
  },
  {
   "cell_type": "code",
   "execution_count": 1,
   "id": "0e257676",
   "metadata": {},
   "outputs": [],
   "source": [
    "# FIRST activate GPU usage by: Runtime -> Change run time type -> GPU\n",
    "# check if openmm is in Colab, otherwise install it\n",
    "import sys\n",
    "import os\n",
    "import subprocess\n",
    "\n",
    "pkgs = [ i.split('==')[0].lower() for i in subprocess.getoutput('pip list --format=freeze').splitlines() ]\n",
    "if 'openmm' in pkgs:\n",
    "  pass\n",
    "else:\n",
    "  print('No OpenMM available.\\nPlease run the next cell to install it.')"
   ]
  },
  {
   "cell_type": "code",
   "execution_count": 64,
   "id": "5ce50f85",
   "metadata": {},
   "outputs": [],
   "source": [
    "# Installing OpenMM via conda, if already done\n",
    "# run the python command only\n",
    "!wget https://repo.anaconda.com/miniconda/Miniconda3-latest-Linux-x86_64.sh\n",
    "!bash Miniconda3-latest-Linux-x86_64.sh -bfp /usr/local\n",
    "!conda config --set always_yes yes\n",
    "!conda config --add channels conda-forge\n",
    "!conda create -n openmm python=3.7 cudatoolkit=10.0 numpy nglview openmm openmoltools openmmforcefields\n",
    "sys.path.append('/usr/local/envs/openmm/lib/python3.7/site-packages')"
   ]
  },
  {
   "cell_type": "code",
   "execution_count": 2,
   "id": "88f31fdb",
   "metadata": {},
   "outputs": [],
   "source": [
    "# Resources and files\n",
    "\n",
    "resources = 'CUDA' # for using solely CPUs set resources = 'CPU'\n",
    "\n",
    "!if [ ! -f cocomo.pdb ] ; then wget https://raw.githubusercontent.com/feiglab/cocomo/main/cocomo.pdb ; fi\n",
    "pdb_file = 'cocomo.pdb'"
   ]
  },
  {
   "cell_type": "code",
   "execution_count": null,
   "id": "2e01364b",
   "metadata": {},
   "outputs": [],
   "source": [
    "# load libraries\n",
    "\n",
    "from __future__ import print_function\n",
    "import numpy as np\n",
    "\n",
    "from openmm.unit import *\n",
    "from openmm import *\n",
    "from openmm.app import *\n",
    "\n",
    "from google.colab import output\n",
    "output.enable_custom_widget_manager()\n",
    "import mdtraj as md\n",
    "import nglview as nv"
   ]
  },
  {
   "cell_type": "code",
   "execution_count": 3,
   "id": "dcb02c7c",
   "metadata": {},
   "outputs": [],
   "source": [
    "# COCOMO Force Field parameters\n",
    "\n",
    "kbond = 4184\n",
    "l0_pro = 0.38\n",
    "l0_rna = 0.5\n",
    "theta0 = 180\n",
    "kangle_pro = 4.184 \n",
    "kangle_rna = 5.021\n",
    "eps_polar = 0.40\n",
    "eps_nopol = 0.41\n",
    "eps_rna = 0.41\n",
    "cationpi_propro = 0.30\n",
    "cationpi_prorna = 0.20\n",
    "kappa = 1.00\n",
    "\n",
    "ff_param = {'ALA': {'mass':  71.079, 'charge':  0.0, 'radius': 0.2845, 'epsilon': 0.41, 'azero': 0.00}, \n",
    "            'ARG': {'mass': 157.197, 'charge':  1.0, 'radius': 0.3567, 'epsilon': 0.40, 'azero': 0.05}, \n",
    "            'ASN': {'mass': 114.104, 'charge':  0.0, 'radius': 0.3150, 'epsilon': 0.40, 'azero': 0.05}, \n",
    "            'ASP': {'mass': 114.080, 'charge': -1.0, 'radius': 0.3114, 'epsilon': 0.40, 'azero': 0.05}, \n",
    "            'CYS': {'mass': 103.139, 'charge':  0.0, 'radius': 0.3024, 'epsilon': 0.40, 'azero': 0.05}, \n",
    "            'GLN': {'mass': 128.131, 'charge':  0.0, 'radius': 0.3311, 'epsilon': 0.40, 'azero': 0.05}, \n",
    "            'GLU': {'mass': 128.107, 'charge': -1.0, 'radius': 0.3279, 'epsilon': 0.40, 'azero': 0.05}, \n",
    "            'GLY': {'mass':  57.052, 'charge':  0.0, 'radius': 0.2617, 'epsilon': 0.41, 'azero': 0.00}, \n",
    "            'HIS': {'mass': 137.142, 'charge':  0.0, 'radius': 0.3338, 'epsilon': 0.40, 'azero': 0.05}, \n",
    "            'ILE': {'mass': 113.160, 'charge':  0.0, 'radius': 0.3360, 'epsilon': 0.41, 'azero': 0.00}, \n",
    "            'LEU': {'mass': 113.160, 'charge':  0.0, 'radius': 0.3363, 'epsilon': 0.41, 'azero': 0.00}, \n",
    "            'LYS': {'mass': 129.183, 'charge':  1.0, 'radius': 0.3439, 'epsilon': 0.40, 'azero': 0.05}, \n",
    "            'MET': {'mass': 131.193, 'charge':  0.0, 'radius': 0.3381, 'epsilon': 0.41, 'azero': 0.00}, \n",
    "            'PHE': {'mass': 147.177, 'charge':  0.0, 'radius': 0.3556, 'epsilon': 0.41, 'azero': 0.00}, \n",
    "            'PRO': {'mass':  98.125, 'charge':  0.0, 'radius': 0.3187, 'epsilon': 0.41, 'azero': 0.00}, \n",
    "            'SER': {'mass':  87.078, 'charge':  0.0, 'radius': 0.2927, 'epsilon': 0.40, 'azero': 0.05}, \n",
    "            'THR': {'mass': 101.105, 'charge':  0.0, 'radius': 0.3108, 'epsilon': 0.40, 'azero': 0.05}, \n",
    "            'TRP': {'mass': 186.214, 'charge':  0.0, 'radius': 0.3754, 'epsilon': 0.41, 'azero': 0.00}, \n",
    "            'TYR': {'mass': 163.176, 'charge':  0.0, 'radius': 0.3611, 'epsilon': 0.41, 'azero': 0.00}, \n",
    "            'VAL': {'mass':  99.133, 'charge':  0.0, 'radius': 0.3205, 'epsilon': 0.41, 'azero': 0.00}, \n",
    "            'ADE': {'mass': 315.697, 'charge': -1.0, 'radius': 0.4220, 'epsilon': 0.41, 'azero': 0.05}, \n",
    "            'CYT': {'mass': 305.200, 'charge': -1.0, 'radius': 0.4110, 'epsilon': 0.41, 'azero': 0.05}, \n",
    "            'GUA': {'mass': 345.200, 'charge': -1.0, 'radius': 0.4255, 'epsilon': 0.41, 'azero': 0.05}, \n",
    "            'URA': {'mass': 305.162, 'charge': -1.0, 'radius': 0.4090, 'epsilon': 0.41, 'azero': 0.05}} "
   ]
  },
  {
   "cell_type": "code",
   "execution_count": 58,
   "id": "5ca020cc",
   "metadata": {},
   "outputs": [
    {
     "name": "stdout",
     "output_type": "stream",
     "text": [
      "\u001b[94mProtein\n",
      "\u001b[91mRNA\n"
     ]
    },
    {
     "data": {
      "application/vnd.jupyter.widget-view+json": {
       "model_id": "d0490205267d4cb2b3591e51db646448",
       "version_major": 2,
       "version_minor": 0
      },
      "text/plain": [
       "NGLWidget(background='transparent')"
      ]
     },
     "metadata": {},
     "output_type": "display_data"
    }
   ],
   "source": [
    "# Visualize initial coordinates\n",
    "\n",
    "traj = md.load(pdb_file)\n",
    "view = nv.show_mdtraj(traj, default_representation=False)\n",
    "view.background = 'transparent'\n",
    "view.camera = 'orthographic'\n",
    "view.add_representation('axes', showAxes=False, showBox=True, radius=3.0, color='black')\n",
    "view.add_representation('point', selection='A', color='red', pointSize=3, useTexture=True, sizeAttenuation=False)\n",
    "view.add_representation('point', selection='protein', color='blue', pointSize=3, useTexture=True, sizeAttenuation=False)\n",
    "view.center(selection='all')\n",
    "print('\\033[94m' + 'Protein' '\\n' '\\033[91m' + 'RNA' )\n",
    "view"
   ]
  },
  {
   "cell_type": "code",
   "execution_count": 51,
   "id": "5f75202a",
   "metadata": {
    "scrolled": true
   },
   "outputs": [],
   "source": [
    "# read atoms list and coordinates from PDB file\n",
    "\n",
    "def read_pdb (filename):\n",
    "    atoms = []\n",
    "    with open(filename, 'r') as f:\n",
    "        for line in f:\n",
    "            line = line.split()\n",
    "            if line[0] == 'ATOM':\n",
    "                atoms.append([line[2], line[3], line[10]])\n",
    "    atoms = np.array(atoms, dtype='object')\n",
    "    return atoms\n",
    "\n",
    "positions = PDBFile(pdb_file).positions\n",
    "atom_list = read_pdb(pdb_file)\n",
    "segnames = [atom_list[i,2] != atom_list[i+1,2] for i in range(-1,atom_list.shape[0]-1)]\n",
    "segnames = atom_list[segnames,2]\n",
    "\n",
    "# generate topolgy\n",
    "top = topology.Topology()\n",
    "for seg in segnames:\n",
    "    chain = top.addChain(seg)\n",
    "    for atm in atom_list:\n",
    "        if atm[2] == seg:\n",
    "            residue = top.addResidue(atm[1], chain)\n",
    "            top.addAtom(atm[0], element=element.carbon, residue=residue)\n",
    "            #\n",
    "    atom = [i for i in chain.atoms()]\n",
    "    for i in range(len(atom)-1):\n",
    "        top.addBond(atom[i],atom[i+1])\n",
    "\n",
    "BOX = 100.\n",
    "a = Quantity(np.zeros([3]), nanometers)\n",
    "a[0] = BOX * nanometers\n",
    "b = unit.Quantity(np.zeros([3]), nanometers)\n",
    "b[1] = BOX * nanometers\n",
    "c = unit.Quantity(np.zeros([3]), nanometers)\n",
    "c[2] = BOX * nanometers\n",
    "box = (a,b,c)\n",
    "top.setPeriodicBoxVectors(box)\n",
    "\n",
    "## Build system\n",
    "system = openmm.System()\n",
    "\n",
    "# add Particles to the system\n",
    "for i in atom_list[:,1]: system.addParticle(ff_param[i]['mass']*unit.amu) \n",
    "\n",
    "# set BOX vectors to the system \n",
    "system.setDefaultPeriodicBoxVectors(a, b, c)"
   ]
  },
  {
   "cell_type": "code",
   "execution_count": 52,
   "id": "9ac08c65",
   "metadata": {},
   "outputs": [],
   "source": [
    "## Add COCOMO forces\n",
    "\n",
    "# bond force\n",
    "f_bond = openmm.HarmonicBondForce()\n",
    "for bond in top.bonds():\n",
    "    if bond[0].residue.name in ['ALA', 'ARG', 'ASN', 'ASP', 'CYS', 'GLN', 'GLU', 'GLY', 'HIS', 'ILE','LEU', 'LYS', 'MET', 'PHE', 'PRO', 'SER', 'THR', 'TRP', 'TYR', 'VAL']:\n",
    "        f_bond.addBond(bond[0].index, bond[1].index, l0_pro*nanometer, kbond*kilojoules_per_mole/(nanometer**2))\n",
    "    elif bond[0].residue.name in ['ADE', 'CYT', 'GUA', 'URA']:\n",
    "        f_bond.addBond(bond[0].index, bond[1].index, l0_rna*nanometer, kbond*kilojoules_per_mole/(nanometer**2))\n",
    "\n",
    "system.addForce(f_bond)\n",
    "\n",
    "# angle force\n",
    "f_angle = openmm.HarmonicAngleForce()\n",
    "for atoms in [[i for i in top.atoms() if i.residue.chain.id == seg] for seg in segnames]:\n",
    "    if atoms[0].residue.name in ['ALA', 'ARG', 'ASN', 'ASP', 'CYS', 'GLN', 'GLU', 'GLY', 'HIS', 'ILE','LEU', 'LYS', 'MET', 'PHE', 'PRO', 'SER', 'THR', 'TRP', 'TYR', 'VAL']:\n",
    "        for i in range(len(atoms)-2):\n",
    "            f_angle.addAngle(atoms[i].index, atoms[i+1].index, atoms[i+2].index, theta0*degrees, kangle_pro*kilojoule_per_mole/(radian**2))\n",
    "    elif atoms[0].residue.name in ['ADE', 'CYT', 'GUA', 'URA']:\n",
    "        for i in range(len(atoms)-2):\n",
    "            f_angle.addAngle(atoms[i].index, atoms[i+1].index, atoms[i+2].index, theta0*degrees, kangle_rna*kilojoule_per_mole/(radian**2))\n",
    "\n",
    "system.addForce(f_angle)\n",
    "\n",
    "# openMM Center of Mass Motion Remover\n",
    "system.addForce(openmm.CMMotionRemover())\n",
    "\n",
    "# electrostactic\n",
    "k0 = kappa*nanometer\n",
    "force1 = CustomNonbondedForce(\"(A+Z)/r*exp(-r/K0); A=A1*A2; Z=Z1+Z2\")\n",
    "force1.addGlobalParameter(\"K0\", k0)\n",
    "force1.addPerParticleParameter(\"A\")\n",
    "force1.addPerParticleParameter(\"Z\")\n",
    "force1.setNonbondedMethod(CustomNonbondedForce.CutoffPeriodic)\n",
    "force1.setCutoffDistance(3.0*nanometer)\n",
    "\n",
    "for atom in top.atoms():\n",
    "    force1.addParticle([(np.sqrt(0.75*np.abs(ff_param[atom.residue.name]['charge']))*np.sign(ff_param[atom.residue.name]['charge']))*nanometer*kilojoule/mole, ff_param[atom.residue.name]['azero'] *(nanometer*kilojoule/mole)**(1/2)])\n",
    "\n",
    "force1.createExclusionsFromBonds([(i[0].index, i[1].index) for i in top.bonds()], 1)\n",
    "system.addForce(force1)\n",
    "\n",
    "# short range\n",
    "force2 = CustomNonbondedForce(\"4*epsilon*((sigma/r)^10-(sigma/r)^5); sigma=0.5*(sigma1+sigma2); epsilon=sqrt(epsilon1*epsilon2)\")\n",
    "force2.addPerParticleParameter(\"sigma\")\n",
    "force2.addPerParticleParameter(\"epsilon\")\n",
    "force2.setNonbondedMethod(CustomNonbondedForce.CutoffPeriodic)\n",
    "force2.setCutoffDistance(3.0*nanometer)\n",
    "\n",
    "for atom in top.atoms():\n",
    "    force2.addParticle([ff_param[atom.residue.name]['radius']*2*2**(-1/6)*nanometer, ff_param[atom.residue.name]['epsilon']*kilojoule/mole])\n",
    "\n",
    "force2.createExclusionsFromBonds([(i[0].index, i[1].index) for i in top.bonds()], 1)\n",
    "system.addForce(force2)\n",
    "    \n",
    "# protein - protein cation pi \n",
    "if any(True for i in ['ARG', 'LYS'] if i in [atom.residue.name for atom in top.atoms()]) and any(True for i in ['PHE', 'TRP', 'TYR'] if i in [atom.residue.name for atom in top.atoms()]) :\n",
    "    force3 = CustomNonbondedForce(\"4*epsilon*((sigma/r)^10-(sigma/r)^5); sigma=0.5*(sigma1+sigma2); epsilon=sqrt(epsilon1*epsilon2)\")\n",
    "    force3.addPerParticleParameter(\"sigma\")\n",
    "    force3.addPerParticleParameter(\"epsilon\")\n",
    "    force3.setNonbondedMethod(CustomNonbondedForce.CutoffPeriodic)\n",
    "    force3.setCutoffDistance(3.0*nanometer)\n",
    "    for atom in top.atoms():\n",
    "        force3.addParticle([ff_param[atom.residue.name]['radius']*2*2**(-1/6)*nanometer, cationpi_propro*kilojoule/mole])\n",
    "        #\n",
    "    force3.createExclusionsFromBonds([(i[0].index, i[1].index) for i in top.bonds()], 1)\n",
    "    arg_lys  = [atom.index for atom in top.atoms() if atom.residue.name in ['ARG', 'LYS']]\n",
    "    aromatic = [atom.index for atom in top.atoms() if atom.residue.name in ['PHE', 'TRP', 'TYR']]\n",
    "    force3.addInteractionGroup(arg_lys, aromatic)\n",
    "    system.addForce(force3)\n",
    "    \n",
    "# protein - rna cation pi\n",
    "if any(True for i in ['ARG', 'LYS'] if i in [atom.residue.name for atom in top.atoms()]) and any(True for i in ['ADE', 'CYT', 'GUA', 'URA'] if i in [atom.residue.name for atom in top.atoms() ]) :\n",
    "    force4 = CustomNonbondedForce(\"4*epsilon*((sigma/r)^10-(sigma/r)^5); sigma=0.5*(sigma1+sigma2); epsilon=sqrt(epsilon1*epsilon2)\")\n",
    "    force4.addPerParticleParameter(\"sigma\")\n",
    "    force4.addPerParticleParameter(\"epsilon\")\n",
    "    force4.setNonbondedMethod(CustomNonbondedForce.CutoffPeriodic)\n",
    "    force4.setCutoffDistance(3.0*nanometer)\n",
    "    for atom in top.atoms():\n",
    "        force4.addParticle([ff_param[atom.residue.name]['radius']*2*2**(-1/6)*nanometer, cationpi_prorna*kilojoule/mole])\n",
    "        #\n",
    "    force4.createExclusionsFromBonds([(i[0].index, i[1].index) for i in top.bonds()], 1)\n",
    "    arg_lys  = [atom.index for atom in top.atoms() if atom.residue.name in ['ARG', 'LYS']]\n",
    "    nucleic = [atom.index for atom in top.atoms() if atom.residue.name in ['ADE', 'CYT', 'GUA', 'URA']]\n",
    "    force4.addInteractionGroup(arg_lys, nucleic)\n",
    "    system.addForce(force4)"
   ]
  },
  {
   "cell_type": "code",
   "execution_count": 54,
   "id": "3e98fcca",
   "metadata": {},
   "outputs": [
    {
     "name": "stdout",
     "output_type": "stream",
     "text": [
      "\n",
      "Initial system energy\n",
      "2511618.6083208118 kJ/mol\n",
      "\n",
      "Energy minimization: 5000 steps\n",
      "11975.729454106702 kJ/mol\n",
      "\n",
      "MD run: 25 steps\n",
      "16416.2286404666 kJ/mol\n"
     ]
    }
   ],
   "source": [
    "# Build simulation context\n",
    "integrator = LangevinIntegrator(298*kelvin, 0.01/picosecond, 0.01*picoseconds)\n",
    "\n",
    "# Set platform\n",
    "platform = Platform.getPlatformByName(resources)\n",
    "if resources == 'CUDA' :\n",
    "    prop = dict(CudaPrecision='mixed')\n",
    "\n",
    "if resources == 'CUDA' : simulation = Simulation(top, system, integrator, platform, prop)\n",
    "if resources == 'CPU'  : simulation = Simulation(top, system, integrator, platform)\n",
    "\n",
    "simulation.context.setPositions(positions)\n",
    "\n",
    "print(\"\\nInitial system energy\")\n",
    "print(simulation.context.getState(getEnergy=True).getPotentialEnergy())\n",
    "\n",
    "# minimization\n",
    "mini_nstep = 5000\n",
    "print(\"\\nEnergy minimization: %s steps\" % mini_nstep)\n",
    "simulation.minimizeEnergy(tolerance=100.0*kilojoule/mole, maxIterations=mini_nstep)\n",
    "print(simulation.context.getState(getEnergy=True).getPotentialEnergy())\n",
    "\n",
    "# generate velocities\n",
    "simulation.context.setVelocitiesToTemperature(298*kelvin, 870516298)\n",
    "\n",
    "# run simulation\n",
    "nstep  = 5000000  # number of steps to run, 100 ns, ~10 min running with GPU\n",
    "nstout = 50000    # Writing output frequency (steps), every 1 ns\n",
    "nstdcd = 50000    # Writing coords frequency (steps), every 1 ns\n",
    "odcd = 'trajectory.dcd'\n",
    "olog = 'trajectory.log'\n",
    "simulation.reporters.append(DCDReporter(odcd, nstdcd))\n",
    "simulation.reporters.append(StateDataReporter(olog, nstout, step=True, time=True, potentialEnergy=True, kineticEnergy=True, totalEnergy=True, temperature=True, volume=True, density=True, progress=True, remainingTime=True, speed=True, totalSteps=nstep, separator='\\t'))\n",
    "\n",
    "print(\"\\nMD run: %s steps\" % nstep)\n",
    "simulation.step(nstep)\n",
    "print(simulation.context.getState(getEnergy=True).getPotentialEnergy())"
   ]
  },
  {
   "cell_type": "code",
   "execution_count": 61,
   "id": "e98f349b",
   "metadata": {},
   "outputs": [
    {
     "name": "stdout",
     "output_type": "stream",
     "text": [
      "\u001b[94mProtein\n",
      "\u001b[91mRNA\n"
     ]
    },
    {
     "data": {
      "application/vnd.jupyter.widget-view+json": {
       "model_id": "3917413737e14098b93671519581c6eb",
       "version_major": 2,
       "version_minor": 0
      },
      "text/plain": [
       "NGLWidget(background='transparent')"
      ]
     },
     "metadata": {},
     "output_type": "display_data"
    }
   ],
   "source": [
    "# Visualize final coordinates\n",
    "\n",
    "traj = md.load('trajectory.dcd', top=pdb_file)[-1]\n",
    "view = nv.show_mdtraj(traj, default_representation=False)\n",
    "view.background = 'transparent'\n",
    "view.camera = 'orthographic'\n",
    "view.add_representation('axes', showAxes=False, showBox=True, radius=3.0, color='black')\n",
    "view.add_representation('point', selection='A', color='red', pointSize=3, useTexture=True, sizeAttenuation=False)\n",
    "view.add_representation('point', selection='protein', color='blue', pointSize=3, useTexture=True, sizeAttenuation=False)\n",
    "view.center(selection='all')\n",
    "print('\\033[94m' + 'Protein' '\\n' '\\033[91m' + 'RNA' )\n",
    "view"
   ]
  }
 ],
 "metadata": {
  "kernelspec": {
   "display_name": "Python 3 (ipykernel)",
   "language": "python",
   "name": "python3"
  },
  "language_info": {
   "codemirror_mode": {
    "name": "ipython",
    "version": 3
   },
   "file_extension": ".py",
   "mimetype": "text/x-python",
   "name": "python",
   "nbconvert_exporter": "python",
   "pygments_lexer": "ipython3",
   "version": "3.8.13"
  }
 },
 "nbformat": 4,
 "nbformat_minor": 5
}
